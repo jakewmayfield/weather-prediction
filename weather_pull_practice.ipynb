{
 "cells": [
  {
   "cell_type": "code",
   "execution_count": 16,
   "id": "9a126e5b",
   "metadata": {},
   "outputs": [],
   "source": [
    "import matplotlib.pyplot as plt\n",
    "import pandas as pd\n",
    "import numpy as np\n",
    "import requests\n",
    "import time\n",
    "import datetime\n",
    "from scipy import stats\n",
    "from scipy.stats import linregress\n",
    "from config import weather_api_key\n",
    "#from config import g_key\n",
    "from citipy import citipy"
   ]
  },
  {
   "cell_type": "code",
   "execution_count": 17,
   "id": "f8736083",
   "metadata": {},
   "outputs": [],
   "source": [
    "#set \"cit center\" for Houston\n",
    "Houston_lat = 29.756097853207656\n",
    "Houston_lng = -95.3669907972107\n",
    "\n",
    "\n",
    "#calculate greater Houston area by expanding lat and lng\n",
    "lat = np.random.uniform(Houston_lat-1, Houston_lat+2, size=6500)\n",
    "lng = np.random.uniform(Houston_lng-5, Houston_lng+2, size=6500)\n",
    "city = []\n",
    "\n",
    "#find nearest city using lat and lng\n",
    "for x in range(len(lat)):\n",
    "    city.append(citipy.nearest_city(lat[x], lng[x]).city_name)\n"
   ]
  },
  {
   "cell_type": "code",
   "execution_count": 18,
   "id": "385beac1",
   "metadata": {},
   "outputs": [],
   "source": [
    "#turn cities into df\n",
    "df = pd.DataFrame({\n",
    "    \"City\":city,\n",
    "    \"lat\":lat,\n",
    "    \"lng\":lng,\n",
    "})"
   ]
  },
  {
   "cell_type": "code",
   "execution_count": 19,
   "id": "0fbd1ee8",
   "metadata": {},
   "outputs": [
    {
     "data": {
      "text/html": [
       "<div>\n",
       "<style scoped>\n",
       "    .dataframe tbody tr th:only-of-type {\n",
       "        vertical-align: middle;\n",
       "    }\n",
       "\n",
       "    .dataframe tbody tr th {\n",
       "        vertical-align: top;\n",
       "    }\n",
       "\n",
       "    .dataframe thead th {\n",
       "        text-align: right;\n",
       "    }\n",
       "</style>\n",
       "<table border=\"1\" class=\"dataframe\">\n",
       "  <thead>\n",
       "    <tr style=\"text-align: right;\">\n",
       "      <th></th>\n",
       "      <th>City</th>\n",
       "      <th>lat</th>\n",
       "      <th>lng</th>\n",
       "    </tr>\n",
       "  </thead>\n",
       "  <tbody>\n",
       "    <tr>\n",
       "      <th>0</th>\n",
       "      <td>brenham</td>\n",
       "      <td>30.070154</td>\n",
       "      <td>-96.109967</td>\n",
       "    </tr>\n",
       "    <tr>\n",
       "      <th>1</th>\n",
       "      <td>beeville</td>\n",
       "      <td>28.893784</td>\n",
       "      <td>-97.557720</td>\n",
       "    </tr>\n",
       "    <tr>\n",
       "      <th>2</th>\n",
       "      <td>lockhart</td>\n",
       "      <td>29.326321</td>\n",
       "      <td>-97.384802</td>\n",
       "    </tr>\n",
       "    <tr>\n",
       "      <th>3</th>\n",
       "      <td>san angelo</td>\n",
       "      <td>31.201086</td>\n",
       "      <td>-99.758061</td>\n",
       "    </tr>\n",
       "    <tr>\n",
       "      <th>4</th>\n",
       "      <td>lakeway</td>\n",
       "      <td>30.300185</td>\n",
       "      <td>-98.329762</td>\n",
       "    </tr>\n",
       "  </tbody>\n",
       "</table>\n",
       "</div>"
      ],
      "text/plain": [
       "         City        lat        lng\n",
       "0     brenham  30.070154 -96.109967\n",
       "1    beeville  28.893784 -97.557720\n",
       "2    lockhart  29.326321 -97.384802\n",
       "3  san angelo  31.201086 -99.758061\n",
       "4     lakeway  30.300185 -98.329762"
      ]
     },
     "execution_count": 19,
     "metadata": {},
     "output_type": "execute_result"
    }
   ],
   "source": [
    "df.head()"
   ]
  },
  {
   "cell_type": "code",
   "execution_count": 20,
   "id": "0c283998",
   "metadata": {},
   "outputs": [
    {
     "data": {
      "text/plain": [
       "114"
      ]
     },
     "execution_count": 20,
     "metadata": {},
     "output_type": "execute_result"
    }
   ],
   "source": [
    "#check length of cities\n",
    "len(list(df[\"City\"].unique()))"
   ]
  },
  {
   "cell_type": "code",
   "execution_count": 21,
   "id": "3a429146",
   "metadata": {},
   "outputs": [
    {
     "data": {
      "text/plain": [
       "['brenham',\n",
       " 'beeville',\n",
       " 'lockhart',\n",
       " 'san+angelo',\n",
       " 'lakeway',\n",
       " 'hondo',\n",
       " 'lufkin',\n",
       " 'port+arthur',\n",
       " 'tomball',\n",
       " 'katy',\n",
       " 'bryan',\n",
       " 'humble',\n",
       " 'taylor',\n",
       " 'fredericksburg',\n",
       " 'kerrville',\n",
       " 'leon+valley',\n",
       " 'stephenville',\n",
       " 'clute',\n",
       " 'temple',\n",
       " 'atascocita',\n",
       " 'galveston',\n",
       " 'natchitoches',\n",
       " 'waco',\n",
       " 'rosenberg',\n",
       " 'sulphur',\n",
       " 'liberty',\n",
       " 'copperas+cove',\n",
       " 'brownwood',\n",
       " 'spring',\n",
       " 'harker+heights',\n",
       " 'lumberton',\n",
       " 'robinson',\n",
       " 'the+woodlands',\n",
       " 'lake+jackson',\n",
       " 'seguin',\n",
       " 'victoria',\n",
       " 'angleton',\n",
       " 'palestine',\n",
       " 'pleasanton',\n",
       " 'leander',\n",
       " 'round+rock',\n",
       " 'gatesville',\n",
       " 'bellmead',\n",
       " 'conroe',\n",
       " 'killeen',\n",
       " 'huntsville',\n",
       " 'nacogdoches',\n",
       " 'jacksonville',\n",
       " 'uvalde',\n",
       " 'vidor',\n",
       " 'league+city',\n",
       " 'san+antonio',\n",
       " 'belton',\n",
       " 'bay+city',\n",
       " 'el+campo',\n",
       " 'nederland',\n",
       " 'orange',\n",
       " 'santa+fe',\n",
       " 'kirby',\n",
       " 'georgetown',\n",
       " 'channelview',\n",
       " 'mission+bend',\n",
       " 'missouri+city',\n",
       " 'baytown',\n",
       " 'corsicana',\n",
       " 'abilene',\n",
       " 'canyon+lake',\n",
       " 'wharton',\n",
       " 'port+lavaca',\n",
       " 'del+rio',\n",
       " 'freeport',\n",
       " 'alvin',\n",
       " 'hewitt',\n",
       " 'la+marque',\n",
       " 'pflugerville',\n",
       " 'live+oak',\n",
       " 'kyle',\n",
       " 'woodway',\n",
       " 'jacinto+city',\n",
       " 'austin',\n",
       " 'beaumont',\n",
       " 'eagle+pass',\n",
       " 'texas+city',\n",
       " 'college+station',\n",
       " 'seabrook',\n",
       " 'schertz',\n",
       " 'san+marcos',\n",
       " 'richmond',\n",
       " 'bellaire',\n",
       " 'aldine',\n",
       " 'new+braunfels',\n",
       " 'south+houston',\n",
       " 'pearland',\n",
       " 'bridge+city',\n",
       " 'houston',\n",
       " 'dickinson',\n",
       " 'west+university+place',\n",
       " 'deer+park',\n",
       " 'pecan+grove',\n",
       " 'webster',\n",
       " 'friendswood',\n",
       " 'cedar+park',\n",
       " 'galena+park',\n",
       " 'cloverleaf',\n",
       " 'converse',\n",
       " 'jollyville',\n",
       " 'groves',\n",
       " 'sugar+land',\n",
       " 'pasadena',\n",
       " 'la+porte',\n",
       " 'anderson+mill',\n",
       " 'stafford',\n",
       " 'port+neches',\n",
       " 'universal+city']"
      ]
     },
     "execution_count": 21,
     "metadata": {},
     "output_type": "execute_result"
    }
   ],
   "source": [
    "cities = list(df[\"City\"].unique())\n",
    "target_cities=[]\n",
    "\n",
    "for i in cities:\n",
    "    c=str(i).replace(\" \",\"+\")\n",
    "    target_cities.append(c)\n",
    "\n",
    "target_cities"
   ]
  },
  {
   "cell_type": "code",
   "execution_count": 22,
   "id": "6861eb98",
   "metadata": {},
   "outputs": [],
   "source": [
    "#set function to get today and previous 4 days' weather data\n",
    "def unix_time():\n",
    "    today = datetime.date.today()\n",
    "    days = [1,2,3,4]\n",
    "    times = [int(time.mktime(today.timetuple()))]\n",
    "    for day in days:\n",
    "        x=today - datetime.timedelta(days=day)\n",
    "        unixtime = int(time.mktime(x.timetuple()))\n",
    "        times.append(unixtime)\n",
    "    return (times)"
   ]
  },
  {
   "cell_type": "code",
   "execution_count": 23,
   "id": "df4d87e0",
   "metadata": {},
   "outputs": [
    {
     "data": {
      "text/plain": [
       "[1630213200, 1630126800, 1630040400, 1629954000, 1629867600]"
      ]
     },
     "execution_count": 23,
     "metadata": {},
     "output_type": "execute_result"
    }
   ],
   "source": [
    "unix_time()"
   ]
  },
  {
   "cell_type": "code",
   "execution_count": 67,
   "id": "7942ca8b",
   "metadata": {},
   "outputs": [],
   "source": [
    "#set base url and define function to find OpenWeather cities' based on city name from nearest place API and feed back into\n",
    "#OpenWeather one call API to ensure proper lat and lng\n",
    "\n",
    "def find_location(target_cities):\n",
    "    unix_time()\n",
    "    base_current_url = \"http://api.openweathermap.org/data/2.5/weather?\"\n",
    "    temp=[]\n",
    "    wind_speed=[]\n",
    "    pressure=[]\n",
    "    for city in target_cities[:5]:\n",
    "        try: \n",
    "            query_url=f\"{base_current_url}appid={weather_api_key}&q={city},US-TX,US&units=imperial\"\n",
    "            req = requests.get(query_url)\n",
    "            response1=req.json()\n",
    "            latitude=response1[\"coord\"][\"lat\"]\n",
    "            longitude=response1[\"coord\"][\"lon\"]\n",
    "        except:\n",
    "            print(\"City not found. Skipping...\")\n",
    "            pass\n",
    "        for x in unix_time():\n",
    "            historical_url = f\"http://api.openweathermap.org/data/2.5/onecall/timemachine?lat={latitude}&lon={longitude}&dt={x}&appid={weather_api_key}&units=imperial\"\n",
    "            hist_json = requests.get(historical_url).json()\n",
    "            #temp.append(hist_json[\"current\"][\"temp\"])\n",
    "            #pressure.append(hist_json[\"current\"][\"pressure\"])\n",
    "            #wind_speed.append(hist_json[\"current\"][\"wind_speed\"])\n",
    "            #print(historical_url)\n",
    "    d=dict()\n",
    "    d[\"Temperature\"] = temp\n",
    "    d[\"Wind_Speed\"] = wind_speed\n",
    "    d[\"Pressure\"] = pressure    \n",
    "    return(d)\n",
    "        #print (\"--\"*30)"
   ]
  },
  {
   "cell_type": "code",
   "execution_count": 68,
   "id": "f8f344a3",
   "metadata": {},
   "outputs": [
    {
     "data": {
      "text/plain": [
       "{'Temperature': [], 'Wind_Speed': [], 'Pressure': []}"
      ]
     },
     "execution_count": 68,
     "metadata": {},
     "output_type": "execute_result"
    }
   ],
   "source": [
    "find_location(target_cities)"
   ]
  },
  {
   "cell_type": "code",
   "execution_count": null,
   "id": "3f7bc8f3",
   "metadata": {},
   "outputs": [],
   "source": [
    "print(len(temp))\n",
    "print(len(pressure))\n",
    "print(len(wind_speed))"
   ]
  },
  {
   "cell_type": "code",
   "execution_count": 32,
   "id": "f7d75ea8",
   "metadata": {},
   "outputs": [
    {
     "data": {
      "text/html": [
       "<div>\n",
       "<style scoped>\n",
       "    .dataframe tbody tr th:only-of-type {\n",
       "        vertical-align: middle;\n",
       "    }\n",
       "\n",
       "    .dataframe tbody tr th {\n",
       "        vertical-align: top;\n",
       "    }\n",
       "\n",
       "    .dataframe thead th {\n",
       "        text-align: right;\n",
       "    }\n",
       "</style>\n",
       "<table border=\"1\" class=\"dataframe\">\n",
       "  <thead>\n",
       "    <tr style=\"text-align: right;\">\n",
       "      <th></th>\n",
       "      <th>Temp</th>\n",
       "      <th>Pressure</th>\n",
       "      <th>Wind Speed</th>\n",
       "    </tr>\n",
       "  </thead>\n",
       "  <tbody>\n",
       "  </tbody>\n",
       "</table>\n",
       "</div>"
      ],
      "text/plain": [
       "Empty DataFrame\n",
       "Columns: [Temp, Pressure, Wind Speed]\n",
       "Index: []"
      ]
     },
     "execution_count": 32,
     "metadata": {},
     "output_type": "execute_result"
    }
   ],
   "source": [
    "dict_data = {\"Temp\" :temp,\n",
    "             \"Pressure\":pressure,\n",
    "             \"Wind Speed\":wind_speed\n",
    "            }\n",
    "df = pd.DataFrame(dict_data)\n",
    "df"
   ]
  },
  {
   "cell_type": "code",
   "execution_count": null,
   "id": "867fa59a",
   "metadata": {},
   "outputs": [],
   "source": []
  }
 ],
 "metadata": {
  "kernelspec": {
   "display_name": "Python 3",
   "language": "python",
   "name": "python3"
  },
  "language_info": {
   "codemirror_mode": {
    "name": "ipython",
    "version": 3
   },
   "file_extension": ".py",
   "mimetype": "text/x-python",
   "name": "python",
   "nbconvert_exporter": "python",
   "pygments_lexer": "ipython3",
   "version": "3.7.11"
  }
 },
 "nbformat": 4,
 "nbformat_minor": 5
}
