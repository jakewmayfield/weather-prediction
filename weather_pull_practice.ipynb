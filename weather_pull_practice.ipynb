{
 "cells": [
  {
   "cell_type": "code",
   "execution_count": null,
   "id": "9a126e5b",
   "metadata": {},
   "outputs": [],
   "source": [
    "import matplotlib.pyplot as plt\n",
    "import pandas as pd\n",
    "import numpy as np\n",
    "import requests\n",
    "import time\n",
    "import datetime\n",
    "from scipy import stats\n",
    "from scipy.stats import linregress\n",
    "from config import weather_api_key\n",
    "from config import g_key"
   ]
  },
  {
   "cell_type": "code",
   "execution_count": 9,
   "id": "2e4dca42",
   "metadata": {},
   "outputs": [],
   "source": [
    "from citipy import citipy"
   ]
  },
  {
   "cell_type": "code",
   "execution_count": 10,
   "id": "f8736083",
   "metadata": {},
   "outputs": [],
   "source": [
    "Houston_lat = 29.756097853207656\n",
    "Houston_lng = -95.3669907972107\n",
    "\n",
    "\n",
    "\n",
    "lat = np.random.uniform(Houston_lat-1, Houston_lat+2, size=6500)\n",
    "lng = np.random.uniform(Houston_lng-5, Houston_lng+2, size=6500)\n",
    "city = []\n",
    "for x in range(len(lat)):\n",
    "    city.append(citipy.nearest_city(lat[x], lng[x]).city_name)\n"
   ]
  },
  {
   "cell_type": "code",
   "execution_count": 11,
   "id": "385beac1",
   "metadata": {},
   "outputs": [],
   "source": [
    "df = pd.DataFrame({\n",
    "    \"City\":city,\n",
    "    \"lat\":lat,\n",
    "    \"lng\":lng,\n",
    "})"
   ]
  },
  {
   "cell_type": "code",
   "execution_count": 12,
   "id": "0fbd1ee8",
   "metadata": {},
   "outputs": [
    {
     "data": {
      "text/html": [
       "<div>\n",
       "<style scoped>\n",
       "    .dataframe tbody tr th:only-of-type {\n",
       "        vertical-align: middle;\n",
       "    }\n",
       "\n",
       "    .dataframe tbody tr th {\n",
       "        vertical-align: top;\n",
       "    }\n",
       "\n",
       "    .dataframe thead th {\n",
       "        text-align: right;\n",
       "    }\n",
       "</style>\n",
       "<table border=\"1\" class=\"dataframe\">\n",
       "  <thead>\n",
       "    <tr style=\"text-align: right;\">\n",
       "      <th></th>\n",
       "      <th>City</th>\n",
       "      <th>lat</th>\n",
       "      <th>lng</th>\n",
       "    </tr>\n",
       "  </thead>\n",
       "  <tbody>\n",
       "    <tr>\n",
       "      <th>0</th>\n",
       "      <td>kerrville</td>\n",
       "      <td>30.263267</td>\n",
       "      <td>-99.439187</td>\n",
       "    </tr>\n",
       "    <tr>\n",
       "      <th>1</th>\n",
       "      <td>beeville</td>\n",
       "      <td>28.794976</td>\n",
       "      <td>-97.602015</td>\n",
       "    </tr>\n",
       "    <tr>\n",
       "      <th>2</th>\n",
       "      <td>huntsville</td>\n",
       "      <td>31.087838</td>\n",
       "      <td>-95.400328</td>\n",
       "    </tr>\n",
       "    <tr>\n",
       "      <th>3</th>\n",
       "      <td>copperas cove</td>\n",
       "      <td>30.967913</td>\n",
       "      <td>-97.940588</td>\n",
       "    </tr>\n",
       "    <tr>\n",
       "      <th>4</th>\n",
       "      <td>natchitoches</td>\n",
       "      <td>31.108799</td>\n",
       "      <td>-93.515919</td>\n",
       "    </tr>\n",
       "    <tr>\n",
       "      <th>...</th>\n",
       "      <td>...</td>\n",
       "      <td>...</td>\n",
       "      <td>...</td>\n",
       "    </tr>\n",
       "    <tr>\n",
       "      <th>6495</th>\n",
       "      <td>bay city</td>\n",
       "      <td>28.946359</td>\n",
       "      <td>-96.166285</td>\n",
       "    </tr>\n",
       "    <tr>\n",
       "      <th>6496</th>\n",
       "      <td>college station</td>\n",
       "      <td>30.655136</td>\n",
       "      <td>-96.310558</td>\n",
       "    </tr>\n",
       "    <tr>\n",
       "      <th>6497</th>\n",
       "      <td>port arthur</td>\n",
       "      <td>29.578321</td>\n",
       "      <td>-93.514052</td>\n",
       "    </tr>\n",
       "    <tr>\n",
       "      <th>6498</th>\n",
       "      <td>galveston</td>\n",
       "      <td>29.644613</td>\n",
       "      <td>-94.488223</td>\n",
       "    </tr>\n",
       "    <tr>\n",
       "      <th>6499</th>\n",
       "      <td>lockhart</td>\n",
       "      <td>29.847434</td>\n",
       "      <td>-97.094616</td>\n",
       "    </tr>\n",
       "  </tbody>\n",
       "</table>\n",
       "<p>6500 rows × 3 columns</p>\n",
       "</div>"
      ],
      "text/plain": [
       "                 City        lat        lng\n",
       "0           kerrville  30.263267 -99.439187\n",
       "1            beeville  28.794976 -97.602015\n",
       "2          huntsville  31.087838 -95.400328\n",
       "3       copperas cove  30.967913 -97.940588\n",
       "4        natchitoches  31.108799 -93.515919\n",
       "...               ...        ...        ...\n",
       "6495         bay city  28.946359 -96.166285\n",
       "6496  college station  30.655136 -96.310558\n",
       "6497      port arthur  29.578321 -93.514052\n",
       "6498        galveston  29.644613 -94.488223\n",
       "6499         lockhart  29.847434 -97.094616\n",
       "\n",
       "[6500 rows x 3 columns]"
      ]
     },
     "execution_count": 12,
     "metadata": {},
     "output_type": "execute_result"
    }
   ],
   "source": [
    "df"
   ]
  },
  {
   "cell_type": "code",
   "execution_count": 13,
   "id": "0c283998",
   "metadata": {},
   "outputs": [
    {
     "data": {
      "text/plain": [
       "111"
      ]
     },
     "execution_count": 13,
     "metadata": {},
     "output_type": "execute_result"
    }
   ],
   "source": [
    "len(list(df[\"City\"].unique()))"
   ]
  },
  {
   "cell_type": "code",
   "execution_count": 21,
   "id": "3a429146",
   "metadata": {},
   "outputs": [
    {
     "name": "stdout",
     "output_type": "stream",
     "text": [
      "['kerrville', 'beeville', 'huntsville', 'copperas cove', 'natchitoches', 'fredericksburg', 'temple', 'brownwood', 'san angelo', 'uvalde', 'austin', 'lufkin', 'lockhart', 'port arthur', 'sulphur', 'canyon lake', 'taylor', 'lumberton', 'robinson', 'vidor', 'woodway', 'nacogdoches', 'conroe', 'hondo', 'liberty', 'galveston', 'texas city', 'bryan', 'gatesville', 'port lavaca', 'wharton', 'pearland', 'lakeway', 'victoria', 'bellmead', 'groves', 'leon valley', 'bay city', 'corsicana', 'beaumont', 'seguin', 'del rio', 'brenham', 'eagle pass', 'new braunfels', 'palestine', 'el campo', 'jacksonville', 'channelview', 'live oak', 'lake jackson', 'pflugerville', 'houston', 'kyle', 'tomball', 'rosenberg', 'angleton', 'pleasanton', 'aldine', 'stephenville', 'la marque', 'orange', 'college station', 'pecan grove', 'humble', 'leander', 'freeport', 'killeen', 'nederland', 'spring', 'georgetown', 'converse', 'richmond', 'atascocita', 'katy', 'missouri city', 'santa fe', 'hewitt', 'mission bend', 'san antonio', 'clute', 'deer park', 'jollyville', 'south houston', 'the woodlands', 'stafford', 'schertz', 'kirby', 'san marcos', 'alvin', 'belton', 'bridge city', 'cloverleaf', 'harker heights', 'la porte', 'dickinson', 'baytown', 'pasadena', 'galena park', 'jacinto city', 'webster', 'friendswood', 'bellaire', 'sugar land', 'anderson mill', 'seabrook', 'round rock', 'port neches', 'league city', 'west university place', 'waco']\n"
     ]
    }
   ],
   "source": [
    "target_cities=list(df[\"City\"].unique())\n",
    "print(target_cities)"
   ]
  },
  {
   "cell_type": "code",
   "execution_count": 7,
   "id": "6a170615",
   "metadata": {},
   "outputs": [],
   "source": [
    "# !python.exe -m pip install --upgrade pip\n",
    "# !pip install citipy\n"
   ]
  },
  {
   "cell_type": "code",
   "execution_count": 42,
   "id": "6861eb98",
   "metadata": {},
   "outputs": [],
   "source": [
    "#get today and previous 4 days' weather data\n",
    "def unix_time():\n",
    "    today = datetime.date.today()\n",
    "    days = [1,2,3,4]\n",
    "    times = [int(time.mktime(today.timetuple()))]\n",
    "    for day in days:\n",
    "        x=today - datetime.timedelta(days=day)\n",
    "        unixtime = int(time.mktime(x.timetuple()))\n",
    "        times.append(unixtime)\n",
    "    return (times)"
   ]
  },
  {
   "cell_type": "code",
   "execution_count": 43,
   "id": "df4d87e0",
   "metadata": {},
   "outputs": [
    {
     "data": {
      "text/plain": [
       "[1630126800, 1630040400, 1629954000, 1629867600, 1629781200]"
      ]
     },
     "execution_count": 43,
     "metadata": {},
     "output_type": "execute_result"
    }
   ],
   "source": [
    "unix_time()"
   ]
  },
  {
   "cell_type": "code",
   "execution_count": 45,
   "id": "22a2b399",
   "metadata": {
    "scrolled": true
   },
   "outputs": [],
   "source": [
    "base_url2 = ('https://maps.googleapis.com/maps/api/geocode/json')\n",
    "lat_weather= []\n",
    "lng_weather=[]\n",
    "\n",
    "def find_location(target_cities):\n",
    "    unix_time()\n",
    "    for city in target_cities[:3]:\n",
    "        target_city = city\n",
    "        # base_url = \"https://maps.googleapis.com/maps/api/geocode/json\"\n",
    "        req = {\"key\": g_key,\"address\": target_city }\n",
    "        response = requests.get(base_url2, params=req)\n",
    "        cities = response.json()\n",
    "        lat = cities[\"results\"][0][\"geometry\"][\"location\"][\"lat\"]\n",
    "        lng = cities[\"results\"][0][\"geometry\"][\"location\"][\"lng\"]\n",
    "    #     lat_lng_weather.append(lat)\n",
    "\n",
    "        for x in times:\n",
    "            url = f\"http://api.openweathermap.org/data/2.5/onecall/timemachine?{lat}&{lng}&dt={x}&appid={weather_api_key}\"\n",
    "    #     url = f\"http://api.openweathermap.org/data/2.5/onecall/timemachine?lat=60.99&lon=30.9&dt={x}&appid={weather_api_key}\"\n",
    "            print(url)\n",
    "        print (\"--\"*30)\n",
    "        \n"
   ]
  },
  {
   "cell_type": "code",
   "execution_count": 47,
   "id": "f8f344a3",
   "metadata": {},
   "outputs": [
    {
     "name": "stdout",
     "output_type": "stream",
     "text": [
      "http://api.openweathermap.org/data/2.5/onecall/timemachine?30.0474332&-99.1403189&dt=1630126800&appid=2619cb1052a25e553478de5c60d2a13f\n",
      "http://api.openweathermap.org/data/2.5/onecall/timemachine?30.0474332&-99.1403189&dt=1630040400&appid=2619cb1052a25e553478de5c60d2a13f\n",
      "http://api.openweathermap.org/data/2.5/onecall/timemachine?30.0474332&-99.1403189&dt=1629954000&appid=2619cb1052a25e553478de5c60d2a13f\n",
      "http://api.openweathermap.org/data/2.5/onecall/timemachine?30.0474332&-99.1403189&dt=1629867600&appid=2619cb1052a25e553478de5c60d2a13f\n",
      "http://api.openweathermap.org/data/2.5/onecall/timemachine?30.0474332&-99.1403189&dt=1629781200&appid=2619cb1052a25e553478de5c60d2a13f\n",
      "------------------------------------------------------------\n",
      "http://api.openweathermap.org/data/2.5/onecall/timemachine?28.4008319&-97.7483312&dt=1630126800&appid=2619cb1052a25e553478de5c60d2a13f\n",
      "http://api.openweathermap.org/data/2.5/onecall/timemachine?28.4008319&-97.7483312&dt=1630040400&appid=2619cb1052a25e553478de5c60d2a13f\n",
      "http://api.openweathermap.org/data/2.5/onecall/timemachine?28.4008319&-97.7483312&dt=1629954000&appid=2619cb1052a25e553478de5c60d2a13f\n",
      "http://api.openweathermap.org/data/2.5/onecall/timemachine?28.4008319&-97.7483312&dt=1629867600&appid=2619cb1052a25e553478de5c60d2a13f\n",
      "http://api.openweathermap.org/data/2.5/onecall/timemachine?28.4008319&-97.7483312&dt=1629781200&appid=2619cb1052a25e553478de5c60d2a13f\n",
      "------------------------------------------------------------\n",
      "http://api.openweathermap.org/data/2.5/onecall/timemachine?34.7303688&-86.5861037&dt=1630126800&appid=2619cb1052a25e553478de5c60d2a13f\n",
      "http://api.openweathermap.org/data/2.5/onecall/timemachine?34.7303688&-86.5861037&dt=1630040400&appid=2619cb1052a25e553478de5c60d2a13f\n",
      "http://api.openweathermap.org/data/2.5/onecall/timemachine?34.7303688&-86.5861037&dt=1629954000&appid=2619cb1052a25e553478de5c60d2a13f\n",
      "http://api.openweathermap.org/data/2.5/onecall/timemachine?34.7303688&-86.5861037&dt=1629867600&appid=2619cb1052a25e553478de5c60d2a13f\n",
      "http://api.openweathermap.org/data/2.5/onecall/timemachine?34.7303688&-86.5861037&dt=1629781200&appid=2619cb1052a25e553478de5c60d2a13f\n",
      "------------------------------------------------------------\n"
     ]
    }
   ],
   "source": [
    "find_location(target_cities)"
   ]
  },
  {
   "cell_type": "code",
   "execution_count": null,
   "id": "f7d75ea8",
   "metadata": {},
   "outputs": [],
   "source": []
  },
  {
   "cell_type": "code",
   "execution_count": null,
   "id": "a43f1acb",
   "metadata": {},
   "outputs": [],
   "source": [
    "for x in times:\n",
    "    url = f\"http://api.openweathermap.org/data/2.5/onecall/timemachine?{lat}&{lng}&dt={x}&appid={weather_api_key}\"\n",
    "#     url = f\"http://api.openweathermap.org/data/2.5/onecall/timemachine?lat=60.99&lon=30.9&dt={x}&appid={weather_api_key}\"\n",
    "\n",
    "    print(url)"
   ]
  },
  {
   "cell_type": "code",
   "execution_count": null,
   "id": "33ffe84d",
   "metadata": {},
   "outputs": [],
   "source": [
    "Houston_lat = 29.756097853207656\n",
    "Houston_lng = -95.3669907972107\n",
    "\n",
    "\n",
    "    \n",
    "url = f\"http://api.openweathermap.org/data/2.5/onecall/timemachine?{lat}&{lng}&dt={st}&appid={weather_api_key}\""
   ]
  },
  {
   "cell_type": "code",
   "execution_count": null,
   "id": "1680a015",
   "metadata": {},
   "outputs": [],
   "source": []
  },
  {
   "cell_type": "code",
   "execution_count": null,
   "id": "0d1b6cf6",
   "metadata": {},
   "outputs": [],
   "source": [
    "print(url)"
   ]
  },
  {
   "cell_type": "code",
   "execution_count": null,
   "id": "b43a61aa",
   "metadata": {},
   "outputs": [],
   "source": [
    "new_url = f\"http://api.openweathermap.org/data/2.5/onecall/timemachine?lat=11.7&lon=-99.4&dt=1629522000&units=imperial&appid={weather_api_key}\""
   ]
  },
  {
   "cell_type": "code",
   "execution_count": null,
   "id": "a926db93",
   "metadata": {},
   "outputs": [],
   "source": [
    "print(new_url)"
   ]
  },
  {
   "cell_type": "code",
   "execution_count": null,
   "id": "4e2dbc9b",
   "metadata": {},
   "outputs": [],
   "source": []
  }
 ],
 "metadata": {
  "kernelspec": {
   "display_name": "Python 3",
   "language": "python",
   "name": "python3"
  },
  "language_info": {
   "codemirror_mode": {
    "name": "ipython",
    "version": 3
   },
   "file_extension": ".py",
   "mimetype": "text/x-python",
   "name": "python",
   "nbconvert_exporter": "python",
   "pygments_lexer": "ipython3",
   "version": "3.8.8"
  }
 },
 "nbformat": 4,
 "nbformat_minor": 5
}
