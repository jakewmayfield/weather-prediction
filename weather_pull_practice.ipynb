{
 "cells": [
  {
   "cell_type": "code",
   "execution_count": null,
   "id": "8d1235ca",
   "metadata": {},
   "outputs": [],
   "source": [
    "2619cb1052a25e553478de5c60d2a13f"
   ]
  },
  {
   "cell_type": "code",
   "execution_count": 18,
   "id": "9a126e5b",
   "metadata": {},
   "outputs": [],
   "source": [
    "import matplotlib.pyplot as plt\n",
    "import pandas as pd\n",
    "import numpy as np\n",
    "import requests\n",
    "import time\n",
    "from datetime import date\n",
    "from scipy import stats\n",
    "from scipy.stats import linregress\n",
    "# Import API key\n",
    "weather_api_key = \"2619cb1052a25e553478de5c60d2a13f\""
   ]
  },
  {
   "cell_type": "code",
   "execution_count": 23,
   "id": "33ffe84d",
   "metadata": {},
   "outputs": [],
   "source": [
    "lat = 42.3601\n",
    "lng = -71.0589\n",
    "st = 1629867600\n",
    "\n",
    "url = f\"http://api.openweathermap.org/data/2.5/onecall/timemachine?{lat}&{lng}&dt={st}&appid={weather_api_key}\""
   ]
  },
  {
   "cell_type": "code",
   "execution_count": 24,
   "id": "0d1b6cf6",
   "metadata": {},
   "outputs": [
    {
     "name": "stdout",
     "output_type": "stream",
     "text": [
      "http://api.openweathermap.org/data/2.5/onecall/timemachine?42.3601&-71.0589&dt=1629867600&appid=2619cb1052a25e553478de5c60d2a13f\n"
     ]
    }
   ],
   "source": [
    "print(url)"
   ]
  },
  {
   "cell_type": "code",
   "execution_count": 41,
   "id": "b43a61aa",
   "metadata": {},
   "outputs": [],
   "source": [
    "new_url = f\"http://api.openweathermap.org/data/2.5/onecall/timemachine?lat=11.7&lon=-99.4&dt=1629522000&units=imperial&appid={weather_api_key}\""
   ]
  },
  {
   "cell_type": "code",
   "execution_count": 42,
   "id": "a926db93",
   "metadata": {},
   "outputs": [
    {
     "name": "stdout",
     "output_type": "stream",
     "text": [
      "http://api.openweathermap.org/data/2.5/onecall/timemachine?lat=11.7&lon=-99.4&dt=1629522000&units=imperial&appid=2619cb1052a25e553478de5c60d2a13f\n"
     ]
    }
   ],
   "source": [
    "print(new_url)"
   ]
  },
  {
   "cell_type": "code",
   "execution_count": null,
   "id": "4e2dbc9b",
   "metadata": {},
   "outputs": [],
   "source": []
  }
 ],
 "metadata": {
  "kernelspec": {
   "display_name": "Python [conda env:root]",
   "language": "python",
   "name": "conda-root-py"
  },
  "language_info": {
   "codemirror_mode": {
    "name": "ipython",
    "version": 3
   },
   "file_extension": ".py",
   "mimetype": "text/x-python",
   "name": "python",
   "nbconvert_exporter": "python",
   "pygments_lexer": "ipython3",
   "version": "3.8.8"
  }
 },
 "nbformat": 4,
 "nbformat_minor": 5
}
