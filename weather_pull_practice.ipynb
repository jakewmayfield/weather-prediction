{
 "cells": [
  {
   "cell_type": "code",
   "execution_count": null,
   "id": "8d1235ca",
   "metadata": {},
   "outputs": [],
   "source": [
    "2619cb1052a25e553478de5c60d2a13f"
   ]
  },
  {
   "cell_type": "code",
   "execution_count": 6,
   "id": "a3be1441",
   "metadata": {},
   "outputs": [
    {
     "name": "stdout",
     "output_type": "stream",
     "text": [
      "Collecting citipy\n",
      "  Downloading citipy-0.0.5.tar.gz (557 kB)\n",
      "Collecting kdtree>=0.12\n",
      "  Downloading kdtree-0.16-py2.py3-none-any.whl (7.7 kB)\n",
      "Building wheels for collected packages: citipy\n",
      "  Building wheel for citipy (setup.py): started\n",
      "  Building wheel for citipy (setup.py): finished with status 'done'\n",
      "  Created wheel for citipy: filename=citipy-0.0.5-py3-none-any.whl size=559700 sha256=56e1febb7f84d5aa6cf089ced510b8d2a6ffce2d26c0b5c499ec2c382a0abac7\n",
      "  Stored in directory: c:\\users\\mdebo\\appdata\\local\\pip\\cache\\wheels\\6d\\df\\5e\\ad8eb9cc5ee7f4ba76865167c09f9a7edff405c669111d8353\n",
      "Successfully built citipy\n",
      "Note: you may need to restart the kernel to use updated packages.\n",
      "Installing collected packages: kdtree, citipy\n",
      "Successfully installed citipy-0.0.5 kdtree-0.16\n"
     ]
    }
   ],
   "source": [
    "pip install citipy"
   ]
  },
  {
   "cell_type": "code",
   "execution_count": 16,
   "id": "9a126e5b",
   "metadata": {},
   "outputs": [],
   "source": [
    "import matplotlib.pyplot as plt\n",
    "import pandas as pd\n",
    "import numpy as np\n",
    "import requests\n",
    "import time\n",
    "import datetime\n",
    "from scipy import stats\n",
    "from scipy.stats import linregress\n",
    "from config import weather_api\n",
    "#from config import g_key\n",
    "from citipy import citipy"
   ]
  },
  {
   "cell_type": "code",
   "execution_count": 17,
   "id": "33ffe84d",
   "metadata": {},
   "outputs": [],
   "source": [
    "#set \"cit center\" for Houston\n",
    "Houston_lat = 29.756097853207656\n",
    "Houston_lng = -95.3669907972107\n",
    "\n",
    "\n",
    "#calculate greater Houston area by expanding lat and lng\n",
    "lat = np.random.uniform(Houston_lat-1, Houston_lat+2, size=6500)\n",
    "lng = np.random.uniform(Houston_lng-5, Houston_lng+2, size=6500)\n",
    "city = []\n",
    "\n",
    "#find nearest city using lat and lng\n",
    "for x in range(len(lat)):\n",
    "    city.append(citipy.nearest_city(lat[x], lng[x]).city_name)"
   ]
  },
  {
   "cell_type": "code",
   "execution_count": 18,
   "id": "0d1b6cf6",
   "metadata": {},
   "outputs": [],
   "source": [
    "#turn cities into df\n",
    "df_city = pd.DataFrame({\n",
    "    \"City\":city,\n",
    "    \"lat\":lat,\n",
    "    \"lng\":lng,\n",
    "})"
   ]
  },
  {
   "cell_type": "code",
   "execution_count": 19,
   "id": "b43a61aa",
   "metadata": {},
   "outputs": [
    {
     "data": {
      "text/plain": [
       "113"
      ]
     },
     "execution_count": 19,
     "metadata": {},
     "output_type": "execute_result"
    }
   ],
   "source": [
    "#check length of cities\n",
    "len(list(df_city[\"City\"].unique()))"
   ]
  },
  {
   "cell_type": "code",
   "execution_count": 20,
   "id": "a926db93",
   "metadata": {},
   "outputs": [
    {
     "data": {
      "text/plain": [
       "['gatesville',\n",
       " 'kerrville',\n",
       " 'la+marque',\n",
       " 'brenham',\n",
       " 'port+arthur',\n",
       " 'vidor',\n",
       " 'santa+fe',\n",
       " 'brownwood',\n",
       " 'hondo',\n",
       " 'lumberton',\n",
       " 'san+angelo',\n",
       " 'lockhart',\n",
       " 'fredericksburg',\n",
       " 'round+rock',\n",
       " 'georgetown',\n",
       " 'katy',\n",
       " 'uvalde',\n",
       " 'palestine',\n",
       " 'nacogdoches',\n",
       " 'el+campo',\n",
       " 'houston',\n",
       " 'texas+city',\n",
       " 'taylor',\n",
       " 'conroe',\n",
       " 'west+university+place',\n",
       " 'galveston',\n",
       " 'lufkin',\n",
       " 'rosenberg',\n",
       " 'freeport',\n",
       " 'natchitoches',\n",
       " 'liberty',\n",
       " 'canyon+lake',\n",
       " 'angleton',\n",
       " 'pleasanton',\n",
       " 'bay+city',\n",
       " 'victoria',\n",
       " 'belton',\n",
       " 'college+station',\n",
       " 'austin',\n",
       " 'mission+bend',\n",
       " 'pflugerville',\n",
       " 'robinson',\n",
       " 'sulphur',\n",
       " 'copperas+cove',\n",
       " 'kyle',\n",
       " 'bryan',\n",
       " 'orange',\n",
       " 'baytown',\n",
       " 'huntsville',\n",
       " 'seguin',\n",
       " 'corsicana',\n",
       " 'bridge+city',\n",
       " 'tomball',\n",
       " 'beeville',\n",
       " 'dickinson',\n",
       " 'atascocita',\n",
       " 'wharton',\n",
       " 'sugar+land',\n",
       " 'leander',\n",
       " 'beaumont',\n",
       " 'woodway',\n",
       " 'spring',\n",
       " 'temple',\n",
       " 'lakeway',\n",
       " 'bellmead',\n",
       " 'leon+valley',\n",
       " 'clute',\n",
       " 'del+rio',\n",
       " 'seabrook',\n",
       " 'deer+park',\n",
       " 'jacksonville',\n",
       " 'stafford',\n",
       " 'cedar+park',\n",
       " 'port+lavaca',\n",
       " 'hewitt',\n",
       " 'lake+jackson',\n",
       " 'nederland',\n",
       " 'san+marcos',\n",
       " 'missouri+city',\n",
       " 'schertz',\n",
       " 'san+antonio',\n",
       " 'alvin',\n",
       " 'bellaire',\n",
       " 'kirby',\n",
       " 'killeen',\n",
       " 'cloverleaf',\n",
       " 'harker+heights',\n",
       " 'new+braunfels',\n",
       " 'the+woodlands',\n",
       " 'eagle+pass',\n",
       " 'south+houston',\n",
       " 'league+city',\n",
       " 'live+oak',\n",
       " 'webster',\n",
       " 'pasadena',\n",
       " 'pearland',\n",
       " 'humble',\n",
       " 'jollyville',\n",
       " 'jacinto+city',\n",
       " 'waco',\n",
       " 'friendswood',\n",
       " 'channelview',\n",
       " 'converse',\n",
       " 'pecan+grove',\n",
       " 'aldine',\n",
       " 'richmond',\n",
       " 'stephenville',\n",
       " 'anderson+mill',\n",
       " 'port+neches',\n",
       " 'groves',\n",
       " 'abilene',\n",
       " 'galena+park',\n",
       " 'la+porte']"
      ]
     },
     "execution_count": 20,
     "metadata": {},
     "output_type": "execute_result"
    }
   ],
   "source": [
    "cities = list(df_city[\"City\"].unique())\n",
    "target_cities=[]\n",
    "\n",
    "for i in cities:\n",
    "    c=str(i).replace(\" \",\"+\")\n",
    "    target_cities.append(c)\n",
    "\n",
    "target_cities"
   ]
  },
  {
   "cell_type": "code",
   "execution_count": 21,
   "id": "4e2dbc9b",
   "metadata": {},
   "outputs": [],
   "source": [
    "#set function to get today and previous 4 days' weather data\n",
    "def unix_time():\n",
    "    today = datetime.date.today()\n",
    "    days = [1,2,3,4]\n",
    "    times = [int(time.mktime(today.timetuple()))]\n",
    "    for day in days:\n",
    "        x=today - datetime.timedelta(days=day)\n",
    "        unixtime = int(time.mktime(x.timetuple()))\n",
    "        times.append(unixtime)\n",
    "    return (times)\n"
   ]
  },
  {
   "cell_type": "code",
   "execution_count": 22,
   "id": "7490917f",
   "metadata": {},
   "outputs": [
    {
     "ename": "NameError",
     "evalue": "name 'weather_api_key' is not defined",
     "output_type": "error",
     "traceback": [
      "\u001b[1;31m---------------------------------------------------------------------------\u001b[0m",
      "\u001b[1;31mNameError\u001b[0m                                 Traceback (most recent call last)",
      "\u001b[1;32m<ipython-input-22-991acf35c9e2>\u001b[0m in \u001b[0;36m<module>\u001b[1;34m\u001b[0m\n\u001b[0;32m      6\u001b[0m \u001b[1;33m\u001b[0m\u001b[0m\n\u001b[0;32m      7\u001b[0m \u001b[1;32mfor\u001b[0m \u001b[0mcity\u001b[0m \u001b[1;32min\u001b[0m \u001b[0mtarget_cities\u001b[0m\u001b[1;33m[\u001b[0m\u001b[1;33m:\u001b[0m\u001b[1;36m4\u001b[0m\u001b[1;33m]\u001b[0m\u001b[1;33m:\u001b[0m\u001b[1;33m\u001b[0m\u001b[1;33m\u001b[0m\u001b[0m\n\u001b[1;32m----> 8\u001b[1;33m     \u001b[0mquery_url\u001b[0m\u001b[1;33m=\u001b[0m\u001b[1;34mf\"{base_current_url}appid={weather_api_key}&q={city},US&units=imperial\"\u001b[0m\u001b[1;33m\u001b[0m\u001b[1;33m\u001b[0m\u001b[0m\n\u001b[0m\u001b[0;32m      9\u001b[0m     \u001b[0mreq\u001b[0m \u001b[1;33m=\u001b[0m \u001b[0mrequests\u001b[0m\u001b[1;33m.\u001b[0m\u001b[0mget\u001b[0m\u001b[1;33m(\u001b[0m\u001b[0mquery_url\u001b[0m\u001b[1;33m)\u001b[0m\u001b[1;33m\u001b[0m\u001b[1;33m\u001b[0m\u001b[0m\n\u001b[0;32m     10\u001b[0m     \u001b[0mresponse1\u001b[0m\u001b[1;33m=\u001b[0m\u001b[0mreq\u001b[0m\u001b[1;33m.\u001b[0m\u001b[0mjson\u001b[0m\u001b[1;33m(\u001b[0m\u001b[1;33m)\u001b[0m\u001b[1;33m\u001b[0m\u001b[1;33m\u001b[0m\u001b[0m\n",
      "\u001b[1;31mNameError\u001b[0m: name 'weather_api_key' is not defined"
     ]
    }
   ],
   "source": [
    "base_current_url = \"http://api.openweathermap.org/data/2.5/weather?\"\n",
    "temp=[]\n",
    "wind_speed=[]\n",
    "pressure=[]\n",
    "city_name=[]\n",
    "\n",
    "for city in target_cities[:4]:\n",
    "    query_url=f\"{base_current_url}appid={weather_api_key}&q={city},US&units=imperial\"\n",
    "    req = requests.get(query_url)\n",
    "    response1=req.json()\n",
    "    latitude=response1[\"coord\"][\"lat\"]\n",
    "    longitude=response1[\"coord\"][\"lon\"]\n",
    "\n",
    "    for x in unix_time():\n",
    "        historical_url = f\"http://api.openweathermap.org/data/2.5/onecall/timemachine?lat={latitude}&lon={longitude}&dt={x}&appid={weather_api_key}&units=imperial\"\n",
    "        hist_json = requests.get(historical_url).json()\n",
    "        temp.append(hist_json[\"current\"][\"temp\"])\n",
    "        pressure.append(hist_json[\"current\"][\"pressure\"])\n",
    "        wind_speed.append(hist_json[\"current\"][\"wind_speed\"])\n",
    "        city_name.append(response1['name'])\n",
    "        print(historical_url)"
   ]
  },
  {
   "cell_type": "code",
   "execution_count": 23,
   "id": "b7bd54a8",
   "metadata": {},
   "outputs": [],
   "source": [
    "#set base url and define function to find OpenWeather cities' based on city name from nearest place API and feed back into\n",
    "#OpenWeather one call API to ensure proper lat and lng\n",
    "\n",
    "def find_location(target_cities):\n",
    "    unix_time()\n",
    "    base_current_url = \"http://api.openweathermap.org/data/2.5/weather?\"\n",
    "    temp=[]\n",
    "    wind_speed=[]\n",
    "    pressure=[]\n",
    "    city_name=[]\n",
    "    country_code=[]\n",
    "    for city in target_cities[:5]:\n",
    "        try: \n",
    "            query_url=f\"{base_current_url}appid={weather_api_key}&q={city},US-TX,US&units=imperial\"\n",
    "            req = requests.get(query_url)\n",
    "            response1=req.json()\n",
    "            latitude=response1[\"coord\"][\"lat\"]\n",
    "            longitude=response1[\"coord\"][\"lon\"]\n",
    "            \n",
    "            \n",
    "        except:\n",
    "            print(\"City not found. Skipping...\")\n",
    "            pass\n",
    "        for x in unix_time():\n",
    "            historical_url = f\"http://api.openweathermap.org/data/2.5/onecall/timemachine?lat={latitude}&lon={longitude}&dt={x}&appid={weather_api_key}&units=imperial\"\n",
    "            hist_json = requests.get(historical_url).json()\n",
    "            temp.append(hist_json[\"current\"][\"temp\"])\n",
    "            pressure.append(hist_json[\"current\"][\"pressure\"])\n",
    "            wind_speed.append(hist_json[\"current\"][\"wind_speed\"])\n",
    "            city_name.append(response1['name'])\n",
    "            country_code.append(response1[\"sys\"][\"country\"])\n",
    "    d=dict()\n",
    "    d[\"City Name\"] = city_name\n",
    "    d[\"Temperature\"] = temp\n",
    "    d[\"Wind_Speed\"] = wind_speed\n",
    "    d[\"Pressure\"] = pressure    \n",
    "    return(d)\n",
    "        #print (\"--\"*30)\n"
   ]
  },
  {
   "cell_type": "code",
   "execution_count": 24,
   "id": "28558de0",
   "metadata": {},
   "outputs": [
    {
     "name": "stdout",
     "output_type": "stream",
     "text": [
      "City not found. Skipping...\n"
     ]
    },
    {
     "ename": "UnboundLocalError",
     "evalue": "local variable 'latitude' referenced before assignment",
     "output_type": "error",
     "traceback": [
      "\u001b[1;31m---------------------------------------------------------------------------\u001b[0m",
      "\u001b[1;31mUnboundLocalError\u001b[0m                         Traceback (most recent call last)",
      "\u001b[1;32m<ipython-input-24-79d95e3eb902>\u001b[0m in \u001b[0;36m<module>\u001b[1;34m\u001b[0m\n\u001b[1;32m----> 1\u001b[1;33m \u001b[0mdf\u001b[0m \u001b[1;33m=\u001b[0m\u001b[0mpd\u001b[0m\u001b[1;33m.\u001b[0m\u001b[0mDataFrame\u001b[0m\u001b[1;33m(\u001b[0m\u001b[0mfind_location\u001b[0m\u001b[1;33m(\u001b[0m\u001b[0mtarget_cities\u001b[0m\u001b[1;33m)\u001b[0m\u001b[1;33m)\u001b[0m\u001b[1;33m\u001b[0m\u001b[1;33m\u001b[0m\u001b[0m\n\u001b[0m",
      "\u001b[1;32m<ipython-input-23-a80535534072>\u001b[0m in \u001b[0;36mfind_location\u001b[1;34m(target_cities)\u001b[0m\n\u001b[0;32m     23\u001b[0m             \u001b[1;32mpass\u001b[0m\u001b[1;33m\u001b[0m\u001b[1;33m\u001b[0m\u001b[0m\n\u001b[0;32m     24\u001b[0m         \u001b[1;32mfor\u001b[0m \u001b[0mx\u001b[0m \u001b[1;32min\u001b[0m \u001b[0munix_time\u001b[0m\u001b[1;33m(\u001b[0m\u001b[1;33m)\u001b[0m\u001b[1;33m:\u001b[0m\u001b[1;33m\u001b[0m\u001b[1;33m\u001b[0m\u001b[0m\n\u001b[1;32m---> 25\u001b[1;33m             \u001b[0mhistorical_url\u001b[0m \u001b[1;33m=\u001b[0m \u001b[1;34mf\"http://api.openweathermap.org/data/2.5/onecall/timemachine?lat={latitude}&lon={longitude}&dt={x}&appid={weather_api_key}&units=imperial\"\u001b[0m\u001b[1;33m\u001b[0m\u001b[1;33m\u001b[0m\u001b[0m\n\u001b[0m\u001b[0;32m     26\u001b[0m             \u001b[0mhist_json\u001b[0m \u001b[1;33m=\u001b[0m \u001b[0mrequests\u001b[0m\u001b[1;33m.\u001b[0m\u001b[0mget\u001b[0m\u001b[1;33m(\u001b[0m\u001b[0mhistorical_url\u001b[0m\u001b[1;33m)\u001b[0m\u001b[1;33m.\u001b[0m\u001b[0mjson\u001b[0m\u001b[1;33m(\u001b[0m\u001b[1;33m)\u001b[0m\u001b[1;33m\u001b[0m\u001b[1;33m\u001b[0m\u001b[0m\n\u001b[0;32m     27\u001b[0m             \u001b[0mtemp\u001b[0m\u001b[1;33m.\u001b[0m\u001b[0mappend\u001b[0m\u001b[1;33m(\u001b[0m\u001b[0mhist_json\u001b[0m\u001b[1;33m[\u001b[0m\u001b[1;34m\"current\"\u001b[0m\u001b[1;33m]\u001b[0m\u001b[1;33m[\u001b[0m\u001b[1;34m\"temp\"\u001b[0m\u001b[1;33m]\u001b[0m\u001b[1;33m)\u001b[0m\u001b[1;33m\u001b[0m\u001b[1;33m\u001b[0m\u001b[0m\n",
      "\u001b[1;31mUnboundLocalError\u001b[0m: local variable 'latitude' referenced before assignment"
     ]
    }
   ],
   "source": [
    "df =pd.DataFrame(find_location(target_cities))\n"
   ]
  },
  {
   "cell_type": "code",
   "execution_count": null,
   "id": "f33c86bb",
   "metadata": {},
   "outputs": [],
   "source": [
    "df"
   ]
  }
 ],
 "metadata": {
  "kernelspec": {
   "display_name": "Python 3",
   "language": "python",
   "name": "python3"
  },
  "language_info": {
   "codemirror_mode": {
    "name": "ipython",
    "version": 3
   },
   "file_extension": ".py",
   "mimetype": "text/x-python",
   "name": "python",
   "nbconvert_exporter": "python",
   "pygments_lexer": "ipython3",
   "version": "3.8.8"
  }
 },
 "nbformat": 4,
 "nbformat_minor": 5
}
