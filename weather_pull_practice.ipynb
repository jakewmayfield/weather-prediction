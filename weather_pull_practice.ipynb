{
 "cells": [
  {
   "cell_type": "code",
   "execution_count": 1,
   "id": "9a126e5b",
   "metadata": {},
   "outputs": [
    {
     "ename": "ModuleNotFoundError",
     "evalue": "No module named 'config'",
     "output_type": "error",
     "traceback": [
      "\u001b[1;31m---------------------------------------------------------------------------\u001b[0m",
      "\u001b[1;31mModuleNotFoundError\u001b[0m                       Traceback (most recent call last)",
      "\u001b[1;32m<ipython-input-1-84c8dba1f893>\u001b[0m in \u001b[0;36m<module>\u001b[1;34m\u001b[0m\n\u001b[0;32m      7\u001b[0m \u001b[1;32mfrom\u001b[0m \u001b[0mscipy\u001b[0m \u001b[1;32mimport\u001b[0m \u001b[0mstats\u001b[0m\u001b[1;33m\u001b[0m\u001b[1;33m\u001b[0m\u001b[0m\n\u001b[0;32m      8\u001b[0m \u001b[1;32mfrom\u001b[0m \u001b[0mscipy\u001b[0m\u001b[1;33m.\u001b[0m\u001b[0mstats\u001b[0m \u001b[1;32mimport\u001b[0m \u001b[0mlinregress\u001b[0m\u001b[1;33m\u001b[0m\u001b[1;33m\u001b[0m\u001b[0m\n\u001b[1;32m----> 9\u001b[1;33m \u001b[1;32mfrom\u001b[0m \u001b[0mconfig\u001b[0m \u001b[1;32mimport\u001b[0m \u001b[0mweather_api_key\u001b[0m\u001b[1;33m\u001b[0m\u001b[1;33m\u001b[0m\u001b[0m\n\u001b[0m\u001b[0;32m     10\u001b[0m \u001b[1;32mfrom\u001b[0m \u001b[0mconfig\u001b[0m \u001b[1;32mimport\u001b[0m \u001b[0mg_key\u001b[0m\u001b[1;33m\u001b[0m\u001b[1;33m\u001b[0m\u001b[0m\n",
      "\u001b[1;31mModuleNotFoundError\u001b[0m: No module named 'config'"
     ]
    }
   ],
   "source": [
    "import matplotlib.pyplot as plt\n",
    "import pandas as pd\n",
    "import numpy as np\n",
    "import requests\n",
    "import time\n",
    "import datetime\n",
    "from scipy import stats\n",
    "from scipy.stats import linregress\n",
    "from config import weather_api_key\n",
    "from config import g_key"
   ]
  },
  {
   "cell_type": "code",
   "execution_count": null,
   "id": "2e4dca42",
   "metadata": {},
   "outputs": [],
   "source": [
    "from citipy import citipy"
   ]
  },
  {
   "cell_type": "code",
   "execution_count": null,
   "id": "f8736083",
   "metadata": {},
   "outputs": [],
   "source": [
    "Houston_lat = 29.756097853207656\n",
    "Houston_lng = -95.3669907972107\n",
    "\n",
    "\n",
    "\n",
    "lat = np.random.uniform(Houston_lat-1, Houston_lat+2, size=6500)\n",
    "lng = np.random.uniform(Houston_lng-5, Houston_lng+2, size=6500)\n",
    "city = []\n",
    "for x in range(len(lat)):\n",
    "    city.append(citipy.nearest_city(lat[x], lng[x]).city_name)\n"
   ]
  },
  {
   "cell_type": "code",
   "execution_count": null,
   "id": "385beac1",
   "metadata": {},
   "outputs": [],
   "source": [
    "df = pd.DataFrame({\n",
    "    \"City\":city,\n",
    "    \"lat\":lat,\n",
    "    \"lng\":lng,\n",
    "})"
   ]
  },
  {
   "cell_type": "code",
   "execution_count": null,
   "id": "0fbd1ee8",
   "metadata": {},
   "outputs": [],
   "source": [
    "df"
   ]
  },
  {
   "cell_type": "code",
   "execution_count": null,
   "id": "0c283998",
   "metadata": {},
   "outputs": [],
   "source": [
    "len(list(df[\"City\"].unique()))"
   ]
  },
  {
   "cell_type": "code",
   "execution_count": null,
   "id": "3a429146",
   "metadata": {},
   "outputs": [],
   "source": [
    "target_cities=list(df[\"City\"].unique())\n",
    "print(target_cities)"
   ]
  },
  {
   "cell_type": "code",
   "execution_count": null,
   "id": "6a170615",
   "metadata": {},
   "outputs": [],
   "source": [
    "# !python.exe -m pip install --upgrade pip\n",
    "# !pip install citipy\n"
   ]
  },
  {
   "cell_type": "code",
   "execution_count": null,
   "id": "6861eb98",
   "metadata": {},
   "outputs": [],
   "source": [
    "#get today and previous 4 days' weather data\n",
    "def unix_time():\n",
    "    today = datetime.date.today()\n",
    "    days = [1,2,3,4]\n",
    "    times = [int(time.mktime(today.timetuple()))]\n",
    "    for day in days:\n",
    "        x=today - datetime.timedelta(days=day)\n",
    "        unixtime = int(time.mktime(x.timetuple()))\n",
    "        times.append(unixtime)\n",
    "    return (times)"
   ]
  },
  {
   "cell_type": "code",
   "execution_count": null,
   "id": "df4d87e0",
   "metadata": {},
   "outputs": [],
   "source": [
    "unix_time()"
   ]
  },
  {
   "cell_type": "code",
   "execution_count": null,
   "id": "22a2b399",
   "metadata": {
    "scrolled": true
   },
   "outputs": [],
   "source": [
    "base_url2 = ('https://maps.googleapis.com/maps/api/geocode/json')\n",
    "lat_weather= []\n",
    "lng_weather=[]\n",
    "\n",
    "def find_location(target_cities):\n",
    "    unix_time()\n",
    "    for city in target_cities[:3]:\n",
    "        target_city = city\n",
    "        # base_url = \"https://maps.googleapis.com/maps/api/geocode/json\"\n",
    "        req = {\"key\": g_key,\"address\": target_city }\n",
    "        response = requests.get(base_url2, params=req)\n",
    "        cities = response.json()\n",
    "        lat = cities[\"results\"][0][\"geometry\"][\"location\"][\"lat\"]\n",
    "        lng = cities[\"results\"][0][\"geometry\"][\"location\"][\"lng\"]\n",
    "    #     lat_lng_weather.append(lat)\n",
    "\n",
    "        for x in times:\n",
    "            url = f\"http://api.openweathermap.org/data/2.5/onecall/timemachine?{lat}&{lng}&dt={x}&appid={weather_api_key}\"\n",
    "    #     url = f\"http://api.openweathermap.org/data/2.5/onecall/timemachine?lat=60.99&lon=30.9&dt={x}&appid={weather_api_key}\"\n",
    "            print(url)\n",
    "        print (\"--\"*30)\n",
    "        \n"
   ]
  },
  {
   "cell_type": "code",
   "execution_count": null,
   "id": "f8f344a3",
   "metadata": {},
   "outputs": [],
   "source": [
    "find_location(target_cities)"
   ]
  },
  {
   "cell_type": "code",
   "execution_count": null,
   "id": "f7d75ea8",
   "metadata": {},
   "outputs": [],
   "source": []
  },
  {
   "cell_type": "code",
   "execution_count": null,
   "id": "a43f1acb",
   "metadata": {},
   "outputs": [],
   "source": [
    "for x in times:\n",
    "    url = f\"http://api.openweathermap.org/data/2.5/onecall/timemachine?{lat}&{lng}&dt={x}&appid={weather_api_key}\"\n",
    "#     url = f\"http://api.openweathermap.org/data/2.5/onecall/timemachine?lat=60.99&lon=30.9&dt={x}&appid={weather_api_key}\"\n",
    "\n",
    "    print(url)"
   ]
  },
  {
   "cell_type": "code",
   "execution_count": null,
   "id": "33ffe84d",
   "metadata": {},
   "outputs": [],
   "source": [
    "Houston_lat = 29.756097853207656\n",
    "Houston_lng = -95.3669907972107\n",
    "\n",
    "\n",
    "    \n",
    "url = f\"http://api.openweathermap.org/data/2.5/onecall/timemachine?{lat}&{lng}&dt={st}&appid={weather_api_key}\""
   ]
  },
  {
   "cell_type": "code",
   "execution_count": null,
   "id": "1680a015",
   "metadata": {},
   "outputs": [],
   "source": []
  },
  {
   "cell_type": "code",
   "execution_count": null,
   "id": "0d1b6cf6",
   "metadata": {},
   "outputs": [],
   "source": [
    "print(url)"
   ]
  },
  {
   "cell_type": "code",
   "execution_count": null,
   "id": "b43a61aa",
   "metadata": {},
   "outputs": [],
   "source": [
    "new_url = f\"http://api.openweathermap.org/data/2.5/onecall/timemachine?lat=11.7&lon=-99.4&dt=1629522000&units=imperial&appid={weather_api_key}\""
   ]
  },
  {
   "cell_type": "code",
   "execution_count": null,
   "id": "a926db93",
   "metadata": {},
   "outputs": [],
   "source": [
    "print(new_url)"
   ]
  },
  {
   "cell_type": "code",
   "execution_count": null,
   "id": "4e2dbc9b",
   "metadata": {},
   "outputs": [],
   "source": []
  }
 ],
 "metadata": {
  "kernelspec": {
   "display_name": "Python 3",
   "language": "python",
   "name": "python3"
  },
  "language_info": {
   "codemirror_mode": {
    "name": "ipython",
    "version": 3
   },
   "file_extension": ".py",
   "mimetype": "text/x-python",
   "name": "python",
   "nbconvert_exporter": "python",
   "pygments_lexer": "ipython3",
   "version": "3.8.8"
  }
 },
 "nbformat": 4,
 "nbformat_minor": 5
}
